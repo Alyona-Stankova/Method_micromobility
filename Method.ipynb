{
  "nbformat": 4,
  "nbformat_minor": 0,
  "metadata": {
    "colab": {
      "provenance": [],
      "collapsed_sections": [
        "s_H7h1bVLm2M",
        "JrACkFhEf6FR",
        "_6l7_aDRgLdg"
      ],
      "authorship_tag": "ABX9TyNq6ppmJ5YX92I2Dtftzwv6",
      "include_colab_link": true
    },
    "kernelspec": {
      "name": "python3",
      "display_name": "Python 3"
    },
    "language_info": {
      "name": "python"
    }
  },
  "cells": [
    {
      "cell_type": "markdown",
      "metadata": {
        "id": "view-in-github",
        "colab_type": "text"
      },
      "source": [
        "<a href=\"https://colab.research.google.com/github/Alyona-Stankova/Method_micromobility/blob/main/Method.ipynb\" target=\"_parent\"><img src=\"https://colab.research.google.com/assets/colab-badge.svg\" alt=\"Open In Colab\"/></a>"
      ]
    },
    {
      "cell_type": "markdown",
      "source": [
        "\n",
        "# Подготовка к использованию метода\n",
        "Метод позволяет работать как с собственным файлом, так и с данными из OpenStreetMap.\n",
        "\n",
        "Выберете **внутри разделов** (сервисы по площади и сервисы по вместимости) конкртные серисы:\n",
        "\n",
        "1) для **сервисов по площади** доступны: бизнес-центры, торговые центры;\n",
        "\n",
        "2) для **сервисов по вместимости** доступны: школы, медецинские учреждения, культурно-досуговые центры.\n",
        "По умолчанию в коде прописаны бизнес-центры и школы соответсвенно.\n",
        "\n",
        "Внутри кода имеются текстовые сноски с написанной частью кода, на которую небходимо заменить для работы с другими сервисами из списка. Кроме того, в коде имеются сноски и рекомендации по замене наименований переменных для корректной работы кода.\n",
        "\n",
        "**Важно!**\n",
        "\n",
        "Работа с **собственным файлом**:\n",
        "\n",
        "При работе с собственным файлом (в формате geojson) важно наличие следующих столбцов в атрибутивной таблице геослоя:\n",
        "\n",
        "- для **жилых зданий**: парковочные_места_СИМ, зарядные_места_СИМ, количество_квартир, addr:housenumber, addr:street;\n",
        "- для **сервисов по площади**: парковочные_места_СИМ, зарядные_места_СИМ, Площадь, addr:housenumber, addr:street;\n",
        "- для **сервисов по вместимости**: парковочные_места_СИМ, зарядные_места_СИМ, Вместимость, addr:housenumber, addr:street, name;\n",
        "- для **остановок наземного транспорта**: парковочные_места_СИМ, зарядные_места_СИМ;\n",
        "- для **станций метро**: парковочные_места_СИМ, зарядные_места_СИМ.\n",
        "\n",
        "Для корректной работы метода и увеличения точноти расчётов рекомендуется брать данные о количестве квартир, площади и вместимости из надежных и открытых источников.\n",
        "\n",
        "Все столбцы с атрибутами объектов должны быть заполнены, пропуски или нулевые значения допускаются только в столбцах: парковочные_места_СИМ, зарядные_места_СИМ.\n",
        "\n",
        "Информация об атрибутах: addr:housenumber, addr:street, name есть в OpenStreetMap.\n",
        "\n",
        "Работа с **данными из OpenStreetMap**:\n",
        "\n",
        "При выгрузке данных из OpenStreetMap важно корректно указать наименование территории и тэги.\n",
        "\n",
        "Дополнительная работа с данными из OSM не требуется, неободимые преобразования данных предусмотрены в коде. Важно отметить, что данные из OSM не обладают высокой точностью, в связи с чем в полученных данным могут быть неточности.\n",
        "\n",
        "Рекомендуемся внимательно изучить файл Readme и иснструкции в внутри разделов кода!"
      ],
      "metadata": {
        "id": "w9zulK1CLtcZ"
      }
    },
    {
      "cell_type": "code",
      "source": [
        " # перед началом использования кода:\n",
        "result_service=0\n",
        "count_service=0\n",
        "price_service=0"
      ],
      "metadata": {
        "id": "Y3-Uc7N2GfRQ"
      },
      "execution_count": null,
      "outputs": []
    },
    {
      "cell_type": "markdown",
      "source": [
        "# Загрузка модулей"
      ],
      "metadata": {
        "id": "s_H7h1bVLm2M"
      }
    },
    {
      "cell_type": "markdown",
      "source": [
        "Загрузите все библиотеки и модули, представленные в этом разделе. Это необходимо для корректной работы кода в дальнейшем"
      ],
      "metadata": {
        "id": "RR54Gi0llQiN"
      }
    },
    {
      "cell_type": "code",
      "source": [
        "# используйте, если необходимо обновление\n",
        "pip install --upgrade numpy"
      ],
      "metadata": {
        "id": "lwaOreM7Glkc"
      },
      "execution_count": null,
      "outputs": []
    },
    {
      "cell_type": "code",
      "source": [
        "# используйте, если необходимо обновление\n",
        "pip install --upgrade blocksnet"
      ],
      "metadata": {
        "id": "6s69AYEZHD7u"
      },
      "execution_count": null,
      "outputs": []
    },
    {
      "cell_type": "code",
      "source": [
        "# используйте, если необходимо обновление\n",
        "pip install --upgrade pandas"
      ],
      "metadata": {
        "id": "bLDbtrViG29u"
      },
      "execution_count": null,
      "outputs": []
    },
    {
      "cell_type": "code",
      "source": [
        "# используйте, если необходимо обновление\n",
        "pip install --upgrade mapclassify"
      ],
      "metadata": {
        "id": "IFtA6hXHKH0J"
      },
      "execution_count": null,
      "outputs": []
    },
    {
      "cell_type": "code",
      "source": [
        "!pip install pandas ipykernel -q"
      ],
      "metadata": {
        "id": "CrdbiyVkKNQE"
      },
      "execution_count": 1,
      "outputs": []
    },
    {
      "cell_type": "code",
      "source": [
        "!pip install blocksnet ipykernel -q"
      ],
      "metadata": {
        "id": "K1cEt4o-J_NH"
      },
      "execution_count": 2,
      "outputs": []
    },
    {
      "cell_type": "code",
      "source": [
        "!pip install numpy ipykernel -q"
      ],
      "metadata": {
        "id": "mDcU4UX3GOzf"
      },
      "execution_count": 3,
      "outputs": []
    },
    {
      "cell_type": "code",
      "source": [
        "!pip install mapclassify ipykernel -q"
      ],
      "metadata": {
        "id": "9jc5r1EULrlw"
      },
      "execution_count": 4,
      "outputs": []
    },
    {
      "cell_type": "code",
      "source": [
        "from blocksnet import BlocksGenerator\n",
        "from blocksnet import City"
      ],
      "metadata": {
        "id": "6nWVPZVkKBcM"
      },
      "execution_count": null,
      "outputs": []
    },
    {
      "cell_type": "code",
      "source": [
        "import osmnx as ox\n",
        "import geopandas as gpd\n",
        "import pandas as pd\n",
        "\n",
        "import os\n",
        "import warnings\n",
        "warnings.filterwarnings(\"ignore\")\n",
        "import matplotlib.pyplot as plt\n",
        "from shapely.geometry import Point\n",
        "import folium\n",
        "from shapely.geometry import mapping\n"
      ],
      "metadata": {
        "id": "KF0ArZMWMB4n"
      },
      "execution_count": 6,
      "outputs": []
    },
    {
      "cell_type": "markdown",
      "source": [
        "# Жилые здания"
      ],
      "metadata": {
        "id": "H7GBkJ1bMam0"
      }
    },
    {
      "cell_type": "markdown",
      "source": [
        "**Загрузка данных**"
      ],
      "metadata": {
        "id": "F-t7cLsj54u1"
      }
    },
    {
      "cell_type": "markdown",
      "source": [
        "Выберите **один** из способов загрузки данных:\n",
        "1. Данные из OpenStreetMap (OSM) - **вставьте название** своей территории в переменную \"area\";\n",
        "2. Собственный файл - подгрузите Ваш файл в Jupyter Notebook, проверьте наличие **всех необходимых столбцов** в Вашем файле и обратите внимание на **название файла**, указанного в коде (либо назавите свой файл идентично, либо поменяйте название внутри кода)"
      ],
      "metadata": {
        "id": "Ml1LMy9Zljqo"
      }
    },
    {
      "cell_type": "code",
      "source": [
        " # укажите свою территорию в переменной area\n",
        "area = \"Московский район, Санкт-Петербург, Россия\"\n",
        "buildings = ox.geometries_from_place(area, tags={'building': True})"
      ],
      "metadata": {
        "id": "JBhfcngXMV6U"
      },
      "execution_count": null,
      "outputs": []
    },
    {
      "cell_type": "code",
      "source": [
        "  # подгрузить файл с подготовленный жилыми зданиями с полями \"парковочные_места_СИМ\", \"зарядные_места_СИМ\", \"количество_квартир\", \"addr:housenumber\", \"addr:street\"\n",
        "  # название Вашего файла и название файла в коде должны совпадать\n",
        "buildings = gpd.read_file('/content/buildings_real.geojson')"
      ],
      "metadata": {
        "id": "Emhk2kFGMltc"
      },
      "execution_count": null,
      "outputs": []
    },
    {
      "cell_type": "code",
      "source": [
        "buildings # проверка данных"
      ],
      "metadata": {
        "id": "Rn3sGjeXMqOX"
      },
      "execution_count": null,
      "outputs": []
    },
    {
      "cell_type": "code",
      "source": [
        " # картографическое представление данных\n",
        "buildings.explore()"
      ],
      "metadata": {
        "id": "ZhVaufsRkS3u"
      },
      "execution_count": null,
      "outputs": []
    },
    {
      "cell_type": "markdown",
      "source": [
        "**Метод**"
      ],
      "metadata": {
        "id": "qVBIrSwIkYCh"
      }
    },
    {
      "cell_type": "markdown",
      "source": [
        "Запустите последовательно все части кода внутри подраздела \"Метод\".\n",
        "Убедитесь, что таблица атрибутов измениилась (или появилась информация о достаточности инфраструктуры для СИМ)"
      ],
      "metadata": {
        "id": "b3UEa-49nopD"
      }
    },
    {
      "cell_type": "code",
      "source": [
        "def calculate_lots(geos_layer, result, count, price):\n",
        "    # проверяем наличие необходимых атрибутов\n",
        "    if all(attr in geos_layer.columns for attr in ['парковочные_места_СИМ', 'зарядные_места_СИМ', 'количество квартир']):\n",
        "\n",
        "              # проверяем минимальное необходимое количество мест\n",
        "            required_parking = round(geos_layer['количество квартир'] * 0.8)\n",
        "            required_charging = round(required_parking * 0.1)\n",
        "             # выводим сумму примерной стоимости мест\n",
        "            filtered_geos_layer = geos_layer[geos_layer['парковочные_места_СИМ'] < required_parking]\n",
        "            filtered_geos_layer['стоимость_мест'] = (required_parking - filtered_geos_layer['парковочные_места_СИМ']) * 49000\n",
        "            total_cost_of_places = filtered_geos_layer['стоимость_мест'].sum()\n",
        "            if total_cost_of_places != 0:\n",
        "              geos_layer['стоимость_мест'] = filtered_geos_layer['стоимость_мест']\n",
        "            if total_cost_of_places == 0:\n",
        "                filtered_geos_layer_2 = geos_layer[geos_layer['зарядные_места_СИМ'] < required_charging]\n",
        "                filtered_geos_layer_2['стоимость_мест'] = (required_charging - filtered_geos_layer_2['зарядные_места_СИМ']) * 49000\n",
        "                total_cost_of_places = filtered_geos_layer_2['стоимость_мест'].sum()\n",
        "                geos_layer['стоимость_мест'] = filtered_geos_layer_2['стоимость_мест']\n",
        "            print(f\"Расчётная стоимость парковочных лотов для жилых зданий на территории: {total_cost_of_places} рублей\")\n",
        "              # проверяем, более 50% объектов удовлетворяют условиям оценки\n",
        "            satisfied_count_parking = (geos_layer['парковочные_места_СИМ'] >= required_parking).sum()\n",
        "            satisfied_count_charging = (geos_layer['зарядные_места_СИМ'] >= required_charging).sum()\n",
        "            total_count = len(geos_layer)\n",
        "\n",
        "            parking_ratio = satisfied_count_parking / total_count\n",
        "            charging_ratio = satisfied_count_charging / total_count\n",
        "\n",
        "            if parking_ratio >= 0.5 and charging_ratio >= 0.5:\n",
        "               result += 1\n",
        "               count += 1\n",
        "            elif parking_ratio <= 0.5 and charging_ratio >= 0.5:\n",
        "               result += 0.5\n",
        "               count += 1\n",
        "            elif parking_ratio >= 0.5 and charging_ratio <= 0.5:\n",
        "               result += 0.5\n",
        "               count += 1\n",
        "            else:\n",
        "               count += 1\n",
        "\n",
        "            print(f\"Результат сервиса: {result}\")\n",
        "            print(f\"Количество пройденных сервисов на территории: {count}\")\n",
        "\n",
        "              # обновляем парковочные места только если текущее значение меньше требуемого\n",
        "            if (geos_layer['парковочные_места_СИМ'] < required_parking).any():\n",
        "              geos_layer.loc[geos_layer['парковочные_места_СИМ'] < required_parking, 'парковочные_места_СИМ'] = required_parking\n",
        "            else:\n",
        "               print(\"Достаточное количество парковочных мест\")\n",
        "\n",
        "             # добавляем новое условие для проверки избыточности парковочных мест\n",
        "            if ((geos_layer['парковочные_места_СИМ']) > required_parking + 20).any():\n",
        "                print(\"Предупреждение: возможно избыточное количество парковочных мест\")\n",
        "\n",
        "             # обновляем зарядные места только если текущее значение меньше требуемого\n",
        "            if (geos_layer['зарядные_места_СИМ'] < required_charging).any():\n",
        "                geos_layer.loc[geos_layer['зарядные_места_СИМ'] < required_charging, 'зарядные_места_СИМ'] = required_charging\n",
        "            else:\n",
        "                print(\"Достаточное количество зарядных мест\")\n",
        "\n",
        "             # добавляем новое условие для проверки избыточности зарядных мест\n",
        "            if ((geos_layer['зарядные_места_СИМ']) > required_charging + 15).any():\n",
        "                  print(\"Предупреждение: возможно избыточное количество зарядных мест\")\n",
        "\n",
        "    else:\n",
        "        # обработка геослоя\n",
        "        geos_layer = geos_layer[geos_layer.geometry.type.isin(['Polygon', 'MultiPolygon'])]\n",
        "        geos_layer = geos_layer.reset_index(drop=True)\n",
        "        original_crs = geos_layer.crs\n",
        "        local_crs = geos_layer.estimate_utm_crs()  # определяем локальную систему координат\n",
        "        geos_layer = geos_layer.to_crs(local_crs)  # переводим здания в локальную систему координат\n",
        "\n",
        "        # преобразуем столбец 'building:levels' в числовой тип, ошибки будут заменены на NaN\n",
        "        geos_layer['building:levels'] = pd.to_numeric(geos_layer['building:levels'], errors='coerce')\n",
        "        # заполним пропущенные значения (NaN) нулями\n",
        "        geos_layer = geos_layer.fillna(0)\n",
        "\n",
        "        # добавляем или преобразуем необходимые атрибуты\n",
        "        # 1. количество этажей (number_of_floors)\n",
        "        geos_layer['number_of_floors'] = geos_layer.apply(\n",
        "            lambda x: max(1, x['building:levels']), axis=1\n",
        "        )\n",
        "\n",
        "        # 2. площадь застройки (footprint_area) - как площадь геометрии (основание здания)\n",
        "        geos_layer['footprint_area'] = geos_layer.geometry.area\n",
        "\n",
        "        # 3. общая площадь всех этажей (build_floor_area) - footprint_area * number_of_floors\n",
        "        geos_layer['build_floor_area'] = geos_layer['footprint_area'] * geos_layer['number_of_floors']\n",
        "\n",
        "        # 4. жилая площадь (living_area)\n",
        "        residential_tags = ['residential', 'house', 'apartments', 'detached', 'terrace', 'dormitory']\n",
        "        geos_layer['living_area'] = geos_layer.apply(\n",
        "            lambda x: 0.8 * x['build_floor_area'] if x.get('building') in residential_tags else 0,\n",
        "            axis=1\n",
        "        )\n",
        "\n",
        "        # нежилая площадь будет 20% от общей площади этажей\n",
        "        geos_layer['non_living_area'] = geos_layer['build_floor_area'] - geos_layer['living_area']\n",
        "\n",
        "        # 5. население (population) жилых зданий\n",
        "        geos_layer['population'] = geos_layer.apply(\n",
        "            lambda x: 48 * x['number_of_floors'] if x.get('building') in residential_tags else 0,\n",
        "            axis=1\n",
        "        )\n",
        "\n",
        "        # удаляем здания без жилой площади\n",
        "        geos_layer['living_area'] = pd.to_numeric(geos_layer['living_area'], errors='coerce')\n",
        "        geos_layer = geos_layer.loc[geos_layer['living_area'] != 0]\n",
        "\n",
        "        # расчёт количества квартир\n",
        "        geos_layer['количество квартир'] = geos_layer['population'] / 4\n",
        "\n",
        "        # сохраняем только необходимые столбцы\n",
        "        geos_layer = geos_layer[['addr:street', 'addr:housenumber', 'geometry', 'build_floor_area',\n",
        "                                  'living_area', 'footprint_area', 'number_of_floors',\n",
        "                                  'population', 'количество квартир']]\n",
        "\n",
        "        # расчёт парковочных и зарядных мест\n",
        "        geos_layer['парковочные_места_СИМ'] = round(geos_layer['количество квартир'] * 0.8)\n",
        "        geos_layer['зарядные_места_СИМ'] = round(geos_layer['парковочные_места_СИМ'] * 0.1)\n",
        "\n",
        "        # возвращаем к оригинальной системе координат\n",
        "        geos_layer = geos_layer.to_crs(original_crs)\n",
        "       # выводим сумму примерной стоимости мест\n",
        "        geos_layer['стоимость_мест'] = geos_layer['парковочные_места_СИМ']*49000\n",
        "        total_cost_of_places = geos_layer['стоимость_мест'].sum()\n",
        "        print(f\"Расчётная стоимость парковочных лотов для жилых зданий на территории: {total_cost_of_places} рублей\")\n",
        "\n",
        "    price += total_cost_of_places\n",
        "    print(f\"Суммарная расчётная стоимость парковочных лотов для рассмотренных сервисов на территории: {price} рублей\")\n",
        "    return geos_layer, result, count, price"
      ],
      "metadata": {
        "id": "R26hU9lu8bzg"
      },
      "execution_count": null,
      "outputs": []
    },
    {
      "cell_type": "code",
      "source": [
        "buildings, result_service, count_service, price_service = calculate_lots(buildings, result_service, count_service, price_service)\n",
        "buildings"
      ],
      "metadata": {
        "id": "ZqJpVey3SLwP"
      },
      "execution_count": null,
      "outputs": []
    },
    {
      "cell_type": "markdown",
      "source": [
        "**Сохранение файла**"
      ],
      "metadata": {
        "id": "P84sRgDarIzd"
      }
    },
    {
      "cell_type": "code",
      "source": [
        "buildings.to_file('buildings_real_result.geojson')"
      ],
      "metadata": {
        "id": "zTwt3b-ib-qg"
      },
      "execution_count": null,
      "outputs": []
    },
    {
      "cell_type": "code",
      "source": [
        "buildings.to_excel('buildings_real_result.xlsx', index=False)"
      ],
      "metadata": {
        "id": "-5VupZbyR-Tr"
      },
      "execution_count": null,
      "outputs": []
    },
    {
      "cell_type": "markdown",
      "source": [
        "**Визуализация**"
      ],
      "metadata": {
        "id": "jmVXr4vBrRDJ"
      }
    },
    {
      "cell_type": "markdown",
      "source": [
        "Запустите последовательно код в подразделе \"Визуализация\".\n",
        "\n",
        "Дизайн карты (подложка, размер круговых маркеров, цвета объектов и т.д.) можно изменить по желанию."
      ],
      "metadata": {
        "id": "oFhppY614XDg"
      }
    },
    {
      "cell_type": "code",
      "source": [
        "buildings['centroid'] = buildings.geometry.centroid\n",
        "\n",
        "# добавление столбцов для широты и долготы центроидов\n",
        "buildings['latitude'] = buildings['centroid'].y\n",
        "buildings['longitude'] = buildings['centroid'].x\n",
        "\n",
        "# удаление временного столбца 'centroid', если он не нужен\n",
        "buildings = buildings.drop(columns='centroid')"
      ],
      "metadata": {
        "id": "O1uME4I7cFVc"
      },
      "execution_count": null,
      "outputs": []
    },
    {
      "cell_type": "code",
      "source": [
        "# создание DataFrame\n",
        "df = pd.DataFrame(buildings)\n",
        "\n",
        "# используем средние значения для центра карты\n",
        "m = folium.Map(location=[df['latitude'].mean(), df['longitude'].mean()], zoom_start=12)\n",
        "\n",
        "# создаем группы для парковочных и зарядных мест\n",
        "parking_group = folium.FeatureGroup(name='Парковочные места')\n",
        "charging_group = folium.FeatureGroup(name='Зарядные места')\n",
        "buildings_group = folium.FeatureGroup(name='Жилые здания')\n",
        "\n",
        "folium.TileLayer('CartoDB positron').add_to(m)\n",
        "\n",
        "# итерация по строкам DataFrame\n",
        "for idx, row in df.iterrows():\n",
        "    # проверяем наличие необходимых колонок\n",
        "    if 'парковочные_места_СИМ' in row and 'зарядные_места_СИМ' in row:\n",
        "        # размер точки на основе количества парковочных мест\n",
        "        parking_size = row['парковочные_места_СИМ'] / 9  # измените делитель по необходимости\n",
        "        charging_size = row['зарядные_места_СИМ'] / 7  # измените делитель по необходимости\n",
        "\n",
        "        # добавляем круговые маркеры для парковочных мест\n",
        "        parking_group.add_child(\n",
        "            folium.CircleMarker(\n",
        "                location=(row['latitude'], row['longitude']),  # используем координаты текущей строки\n",
        "                radius=parking_size,\n",
        "                color=None,\n",
        "                fill=True,  # можно изменить дизайн\n",
        "                fill_color='#BFA181',  # можно изменить дизайн\n",
        "                fill_opacity=0.6,  # можно изменить дизайн\n",
        "                tooltip=f\"Парковочные места: {row['парковочные_места_СИМ'], row['стоимость_мест']}\"\n",
        "            )\n",
        "        )\n",
        "\n",
        "        # добавляем круговые маркеры для зарядных мест\n",
        "        charging_group.add_child(\n",
        "            folium.CircleMarker(\n",
        "                location=(row['latitude'], row['longitude']),  # используем координаты текущей строки\n",
        "                radius=charging_size,\n",
        "                color=None,\n",
        "                fill=True,  # можно изменить дизайн\n",
        "                fill_color='#0A1828',  # можно изменить дизайн\n",
        "                fill_opacity=0.9,  # можно изменить дизайн\n",
        "                tooltip=f\"Зарядные места: {row['зарядные_места_СИМ']}\"  # исправлено на нужное поле\n",
        "            )\n",
        "        )\n",
        "\n",
        "# итерация для добавления зданий на карту\n",
        "for index, row in df.iterrows():\n",
        "    # п наличие геометрии\n",
        "    if 'geometry' in row and row['geometry'] is not None:\n",
        "        geometry = row['geometry']\n",
        "\n",
        "        # одбавляем полигональный слой зданий на карту\n",
        "        buildings_group.add_child(\n",
        "            folium.GeoJson(\n",
        "                geometry,  # используем всю геометрию\n",
        "                color=None,\n",
        "                fill=True,  # можно изменить дизайн\n",
        "                fill_color='#96C2DB',  # можно изменить дизайн\n",
        "                fill_opacity=0.5,  # можно изменить дизайн\n",
        "                tooltip=f\"Адрес: {row['addr:street']} {row['addr:housenumber']}\"\n",
        "            )\n",
        "        )\n",
        "\n",
        "# добавляем группы на карту\n",
        "m.add_child(parking_group)\n",
        "m.add_child(charging_group)\n",
        "m.add_child(buildings_group)\n",
        "\n",
        "# добавляем контрольный слой для переключения между слоями\n",
        "folium.LayerControl().add_to(m)\n",
        "\n",
        "# отображаем карту\n",
        "m"
      ],
      "metadata": {
        "id": "EbC1AdjucL1o"
      },
      "execution_count": null,
      "outputs": []
    },
    {
      "cell_type": "markdown",
      "source": [
        "\n",
        "**Сохранение карты**"
      ],
      "metadata": {
        "id": "rTDhDwHLWVjT"
      }
    },
    {
      "cell_type": "code",
      "source": [
        "m.save('buildings_real_result.html')"
      ],
      "metadata": {
        "id": "Q1H_k171WKJ3"
      },
      "execution_count": null,
      "outputs": []
    },
    {
      "cell_type": "markdown",
      "source": [
        "# Сервисы по площади\n",
        "\n",
        "\n"
      ],
      "metadata": {
        "id": "JrACkFhEf6FR"
      }
    },
    {
      "cell_type": "markdown",
      "source": [
        "**Загрузка данных**"
      ],
      "metadata": {
        "id": "Mscau6K75lOY"
      }
    },
    {
      "cell_type": "markdown",
      "source": [
        "Выберите **один** из способов загрузки данных:\n",
        "1. Данные из OpenStreetMap (OSM) - **вставьте название** своей территории в переменную \"area_2\";\n",
        "2. Собственный файл - подгрузите Ваш файл в Jupyter Notebook, проверьте наличие **всех необходимых столбцов** в Вашем файле и обратите внимание на **название файла**, указанного в коде (либо назавите свой файл идентично, либо поменяйте название внутри кода)\n",
        "\n",
        "При **повторном использовании** на другом сервисе:\n",
        "Данные раздел подходит для расчёта таких сервисов как бизнес-центры и торговые центры.\n",
        "\n",
        "При последовательном использовании данных сервисов рекомендуется использовать различные **наименования для переменных разных сервисов** (например, service_1 заменить на service_2)\n",
        "\n",
        "Переменная **tags для бизнес-центров** (в случае использования данных из OSM) = {'building': 'office'} - стоит по умолчанию, также укажите свою территорию;\n",
        "\n",
        "Переменная **tags для торговых центров** (в случае использования данных из OSM) = {'shop': 'mall'}, также укажите совю территорию"
      ],
      "metadata": {
        "id": "JDn7G8uGoKu7"
      }
    },
    {
      "cell_type": "code",
      "source": [
        " # укажите свою территорию в переменной area__2\n",
        "area_2 = \"Московский район, Санкт-Петербург, Россия\"\n",
        "\n",
        "# загружаем выбранный сервис (см. текст выше)\n",
        "# для торгового центра поставьте наименование своей переменной\n",
        "tags = {'building': 'office'}\n",
        "service_1 = ox.geometries_from_place(area_2, tags)"
      ],
      "metadata": {
        "id": "WfDgN7Qx06k5"
      },
      "execution_count": null,
      "outputs": []
    },
    {
      "cell_type": "code",
      "source": [
        "# подгрузить файл с подготовленный сервисами с полями \"парковочные_места_СИМ\", \"зарядные_места_СИМ\", \"Площадь\", \"addr:housenumber\", \"addr:street\"\n",
        "# название Вашего файла и название файла в коде должны совпадать\n",
        "# для торгового центра поставьте наименование своей переменной\n",
        "service_1 = gpd.read_file('/content/service_1_real.geojson')\n"
      ],
      "metadata": {
        "id": "rBI6OC6xCBce"
      },
      "execution_count": null,
      "outputs": []
    },
    {
      "cell_type": "code",
      "source": [
        "service_1 # проверка данных"
      ],
      "metadata": {
        "id": "5XOsmSK5Co7C"
      },
      "execution_count": null,
      "outputs": []
    },
    {
      "cell_type": "code",
      "source": [
        "# картографическое представление данных\n",
        "# для торгового центра поставьте наименование своей переменной\n",
        "service_1.explore()"
      ],
      "metadata": {
        "id": "NtnlRmyRktmS"
      },
      "execution_count": null,
      "outputs": []
    },
    {
      "cell_type": "markdown",
      "source": [
        "**Метод**"
      ],
      "metadata": {
        "id": "uTggwBHbk6_8"
      }
    },
    {
      "cell_type": "markdown",
      "source": [
        "Запустите последовательно все части кода внутри подраздела \"Метод\". Убедитесь, что таблица атрибутов измениилась (или появилась информация о достаточности инфраструктуры для СИМ).\n",
        "\n",
        "Текущая функция в коде подходит для бизнес-центров.\n",
        "\n",
        "Обратите внимание на **изменения в коде** (в доп. подписях внутри функции ниже) коэффициента расчёта парковочных мест для СИМ для торговых центров:\n",
        "- коэффициент для бизнес-центров: 0.004;\n",
        "- коэффициент для торговых центров: 0.06.\n"
      ],
      "metadata": {
        "id": "QjIgGzEZsLN2"
      }
    },
    {
      "cell_type": "code",
      "source": [
        "def calculate_lots_service_1(geos_layer, result, count, price):\n",
        "    # проверяем наличие необходимых атрибутов\n",
        "    if all(attr in geos_layer.columns for attr in ['парковочные_места_СИМ', 'зарядные_места_СИМ', 'Площадь']):\n",
        "\n",
        "        # проверяем минимальное необходимое количество мест\n",
        "        required_parking = round(geos_layer['Площадь'] * 0.004) # для торговых центров: 0.06\n",
        "        required_charging = round(required_parking * 0.1)\n",
        "        # выводим сумму примерной стоимости мест\n",
        "        filtered_geos_layer = geos_layer[geos_layer['парковочные_места_СИМ'] < required_parking]\n",
        "        filtered_geos_layer['стоимость_мест'] = (required_parking - filtered_geos_layer['парковочные_места_СИМ']) * 55000\n",
        "        total_cost_of_places = filtered_geos_layer['стоимость_мест'].sum()\n",
        "        if total_cost_of_places != 0:\n",
        "          geos_layer['стоимость_мест'] = filtered_geos_layer['стоимость_мест']\n",
        "        if total_cost_of_places == 0:\n",
        "          filtered_geos_layer_2 = geos_layer[geos_layer['зарядные_места_СИМ'] < required_charging]\n",
        "          filtered_geos_layer_2['стоимость_мест'] = (required_charging - filtered_geos_layer_2['зарядные_места_СИМ']) * 55000\n",
        "          total_cost_of_places = filtered_geos_layer_2['стоимость_мест'].sum()\n",
        "          geos_layer['стоимость_мест'] = filtered_geos_layer_2['стоимость_мест']\n",
        "        print(f\"Расчётная стоимость парковочных лотов для жилых зданий на территории: {total_cost_of_places} рублей\")\n",
        "        # проверяем, более 50% объектов удовлетворяют условиям оценки\n",
        "        satisfied_count_parking = (geos_layer['парковочные_места_СИМ'] >= required_parking).sum()\n",
        "        satisfied_count_charging = (geos_layer['зарядные_места_СИМ'] >= required_charging).sum()\n",
        "        total_count = len(geos_layer)\n",
        "\n",
        "        parking_ratio = satisfied_count_parking / total_count\n",
        "        charging_ratio = satisfied_count_charging / total_count\n",
        "\n",
        "        if parking_ratio >= 0.5 and charging_ratio >= 0.5:\n",
        "           result += 1\n",
        "           count += 1\n",
        "        elif parking_ratio <= 0.5 and charging_ratio >= 0.5:\n",
        "            result += 0.5\n",
        "            count += 1\n",
        "        elif parking_ratio >= 0.5 and charging_ratio <= 0.5:\n",
        "            result += 0.5\n",
        "            count += 1\n",
        "        else:\n",
        "            count += 1\n",
        "\n",
        "        print(f\"Результат сервиса: {result}\")\n",
        "        print(f\"Количество пройденных сервисов на территории: {count}\")\n",
        "\n",
        "        # обновляем парковочные места только если текущее значение меньше требуемого\n",
        "        if (geos_layer['парковочные_места_СИМ'] < required_parking).any():\n",
        "            geos_layer.loc[geos_layer['парковочные_места_СИМ'] < required_parking, 'парковочные_места_СИМ'] = required_parking\n",
        "        else:\n",
        "            print(\"Достаточное количество парковочных мест\")\n",
        "\n",
        "        # добавляем новое условие для проверки избыточности парковочных мест\n",
        "        if ((geos_layer['парковочные_места_СИМ']) > required_parking + 20).any():\n",
        "            print(\"Предупреждение: возможно избыточное количество парковочных мест\")\n",
        "\n",
        "        # обновляем зарядные места только если текущее значение меньше требуемого\n",
        "        if (geos_layer['зарядные_места_СИМ'] < required_charging).any():\n",
        "            geos_layer.loc[geos_layer['зарядные_места_СИМ'] < required_charging, 'зарядные_места_СИМ'] = required_charging\n",
        "        else:\n",
        "            print(\"Достаточное количество зарядных мест\")\n",
        "\n",
        "        # добавляем новое условие для проверки избыточности зарядных мест\n",
        "        if ((geos_layer['зарядные_места_СИМ']) > required_parking + 15).any():\n",
        "            print(\"Предупреждение: возможно избыточное количество зарядных мест\")\n",
        "\n",
        "    else:\n",
        "        # обработка геослоя\n",
        "        geos_layer = geos_layer[geos_layer.geometry.type.isin(['Polygon', 'MultiPolygon'])]\n",
        "        geos_layer = geos_layer.reset_index(drop=True)\n",
        "        original_crs = geos_layer.crs\n",
        "        local_crs = geos_layer.estimate_utm_crs()  # определяем локальную систему координат\n",
        "        geos_layer = geos_layer.to_crs(local_crs)  # переводим здания в локальную систему координат\n",
        "\n",
        "        # преобразуем столбец 'building:levels' в числовой тип, ошибки будут заменены на NaN\n",
        "        geos_layer['building:levels'] = pd.to_numeric(geos_layer['building:levels'], errors='coerce')\n",
        "        # заполним пропущенные значения (NaN) нулями\n",
        "        geos_layer = geos_layer.fillna(0)\n",
        "\n",
        "        # добавляем или преобразуем необходимые атрибуты\n",
        "        # 1. количество этажей (number_of_floors)\n",
        "        geos_layer['number_of_floors'] = geos_layer.apply(\n",
        "             lambda x: x['building:levels'] if x['building:levels'] > 1 else 1,\n",
        "             axis=1\n",
        "        )\n",
        "\n",
        "        # 2. площадь застройки (footprint_area) - как площадь геометрии (основание здания)\n",
        "        geos_layer['footprint_area'] = geos_layer.geometry.area\n",
        "\n",
        "        # 3. общая площадь всех этажей (build_floor_area) - footprint_area * number_of_floors\n",
        "        geos_layer['Площадь_2'] = geos_layer['footprint_area'] * geos_layer['number_of_floors']\n",
        "        geos_layer['Площадь'] = geos_layer['Площадь_2'] * 0.6\n",
        "\n",
        "\n",
        "        # теперь удалим все остальные столбцы, кроме 'geometry', 'build_floor_area', 'living_area',\n",
        "        # 'footprint_area', 'number_of_floors', 'population', 'addr:housenumber', 'addr:street'\n",
        "        geos_layer = geos_layer[['geometry', 'Площадь', 'footprint_area', 'number_of_floors', 'addr:housenumber', 'addr:street']]\n",
        "\n",
        "        # расчёт парковочных и зарядных мест\n",
        "        geos_layer['парковочные_места_СИМ'] = round(geos_layer['Площадь'] * 0.004) # для торговых центров: 0.06\n",
        "        geos_layer['зарядные_места_СИМ'] = round(geos_layer['парковочные_места_СИМ'] * 0.1)\n",
        "\n",
        "        # возвращаем к оригинальной системе координат\n",
        "        geos_layer = geos_layer.to_crs(original_crs)\n",
        "        # выводим сумму примерной стоимости мест\n",
        "        geos_layer['стоимость_мест'] = geos_layer['парковочные_места_СИМ']*55000\n",
        "        total_cost_of_places = geos_layer['стоимость_мест'].sum()\n",
        "        print(f\"Расчётная стоимость парковочных лотов для сервиса на территории: {total_cost_of_places} рублей\")\n",
        "\n",
        "    price += total_cost_of_places\n",
        "    print(f\"Суммарная расчётная стоимость парковочных лотов для рассмотренных сервисов на территории: {price} рублей\")\n",
        "    return geos_layer, result, count, price"
      ],
      "metadata": {
        "id": "ghROVLzRCLUS"
      },
      "execution_count": null,
      "outputs": []
    },
    {
      "cell_type": "code",
      "source": [
        " # для торгового центра поставьте наименование своей переменной\n",
        " # для торгового центра название функции: calculate_lots_service_2\n",
        "service_1, result_service, count_service, price_service = calculate_lots_service_1(service_1, result_service, count_service, price_service)\n",
        "service_1"
      ],
      "metadata": {
        "id": "dXJFxwLUCf76"
      },
      "execution_count": null,
      "outputs": []
    },
    {
      "cell_type": "markdown",
      "source": [
        "**Сохренение файла**"
      ],
      "metadata": {
        "id": "G9Q93NYNq0hR"
      }
    },
    {
      "cell_type": "code",
      "source": [
        "# для торгового центра поставьте наименование своей переменной\n",
        "service_1.to_file('service_1_real_result.geojson')"
      ],
      "metadata": {
        "id": "FBE923cHCt36"
      },
      "execution_count": null,
      "outputs": []
    },
    {
      "cell_type": "code",
      "source": [
        "service_1.to_excel('service_1_real_result.xlsx', index=False)"
      ],
      "metadata": {
        "id": "apAO8gBGUIOO"
      },
      "execution_count": null,
      "outputs": []
    },
    {
      "cell_type": "markdown",
      "source": [
        "**Визуализация**"
      ],
      "metadata": {
        "id": "lxlYeZIwq3AN"
      }
    },
    {
      "cell_type": "markdown",
      "source": [
        "Запустите последовательно код в подразделе \"Визуализация\".\n",
        "\n",
        "Дизайн карты (подложка, размер круговых маркеров, цвета объектов и т.д.) можно изменить по желанию."
      ],
      "metadata": {
        "id": "eSasnkh-5cKs"
      }
    },
    {
      "cell_type": "code",
      "source": [
        "# для торгового центра поставьте наименование своей переменной (замените service_1 во всех случаях)\n",
        "service_1['centroid'] = service_1.geometry.centroid\n",
        "\n",
        "# добавление столбцов для широты и долготы центроидов\n",
        "service_1['latitude'] = service_1['centroid'].y\n",
        "service_1['longitude'] = service_1['centroid'].x\n",
        "\n",
        "# удаление временного столбца 'centroid', если он не нужен\n",
        "service_1 = service_1.drop(columns='centroid')\n"
      ],
      "metadata": {
        "id": "jh3PDkzeKJpU"
      },
      "execution_count": null,
      "outputs": []
    },
    {
      "cell_type": "code",
      "source": [
        "# для торгового центра поставьте наименование своей переменной\n",
        "# Создание DataFrame\n",
        "df = pd.DataFrame(service_1)\n",
        "\n",
        "# сипользуем средние значения для центра карты\n",
        "m = folium.Map(location=[df['latitude'].mean(), df['longitude'].mean()], zoom_start=12)\n",
        "\n",
        "# создаем группы для парковочных и зарядных мест\n",
        "parking_group = folium.FeatureGroup(name='Парковочные места')\n",
        "charging_group = folium.FeatureGroup(name='Зарядные места')\n",
        "buildings_group = folium.FeatureGroup(name='Сервис_1')\n",
        "\n",
        "folium.TileLayer('CartoDB positron').add_to(m)\n",
        "\n",
        "# итерация по строкам DataFrame\n",
        "for idx, row in df.iterrows():\n",
        "    # проверяем наличие необходимых колонок\n",
        "    if 'парковочные_места_СИМ' in row and 'зарядные_места_СИМ' in row:\n",
        "        # размер точки на основе количества парковочных мест\n",
        "        parking_size = row['парковочные_места_СИМ'] / 10  # измените делитель по необходимости\n",
        "        charging_places = row['зарядные_места_СИМ'] if row['зарядные_места_СИМ'] > 0 else 1\n",
        "\n",
        "        # проверяем количество зарядных мест\n",
        "        if charging_places >= 1:  # условие для зарядных мест\n",
        "            charging_size = charging_places / 10  # измените делитель по необходимости\n",
        "\n",
        "        # добавляем круговые маркеры для парковочных мест\n",
        "        parking_group.add_child(\n",
        "            folium.CircleMarker(\n",
        "                location=(row['latitude'], row['longitude']),  # используем координаты текущей строки\n",
        "                radius=parking_size,\n",
        "                color=None,\n",
        "                fill=True, # можно изменить дизайн\n",
        "                fill_color='#BFA181', # можно изменить дизайн\n",
        "                fill_opacity=0.6, # можно изменить дизайн\n",
        "                tooltip=f\"Парковочные места: {row['парковочные_места_СИМ'], row['стоимость_мест']}\"\n",
        "            )\n",
        "        )\n",
        "\n",
        "        # добавляем круговые маркеры для зарядных мест\n",
        "        charging_group.add_child(\n",
        "            folium.CircleMarker(\n",
        "                location=(row['latitude'], row['longitude']),  # Используем координаты текущей строки\n",
        "                radius=charging_size,\n",
        "                color=None,\n",
        "                fill=True,  # можно изменить дизайн\n",
        "                fill_color='#0A1828', # можно изменить дизайн\n",
        "                fill_opacity=0.9, # можно изменить дизайн\n",
        "                tooltip=f\"Зарядные места: {row['зарядные_места_СИМ']}\"  # Исправлено на нужное поле\n",
        "            )\n",
        "        )\n",
        "\n",
        "# итерация для добавления зданий на карту\n",
        "for index, row in df.iterrows():\n",
        "    # проверяем наличие геометрии\n",
        "    if 'geometry' in row and row['geometry'] is not None:\n",
        "        geometry = row['geometry']\n",
        "\n",
        "        # добавляем полигональный слой зданий на карту\n",
        "        buildings_group.add_child(\n",
        "            folium.GeoJson(\n",
        "                geometry,  # используем всю геометрию\n",
        "                color=None,\n",
        "                fill=True, # можно изменить дизайн\n",
        "                fill_color='#96C2DB', # можно изменить дизайн\n",
        "                fill_opacity=0.5, # можно изменить дизайн\n",
        "                tooltip=f\"Номер объекта: {row['fid']}\"\n",
        "            )\n",
        "        )\n",
        "\n",
        "# добавляем группы на карту\n",
        "m.add_child(parking_group)\n",
        "m.add_child(charging_group)\n",
        "m.add_child(buildings_group)\n",
        "\n",
        "# добавляем контрольный слой для переключения между слоями\n",
        "folium.LayerControl().add_to(m)\n",
        "\n",
        "# отображаем карту\n",
        "m"
      ],
      "metadata": {
        "id": "1Ze3paviKfwk"
      },
      "execution_count": null,
      "outputs": []
    },
    {
      "cell_type": "markdown",
      "source": [
        "**Сохранение карты**"
      ],
      "metadata": {
        "id": "nYsK6Nf8WBAU"
      }
    },
    {
      "cell_type": "code",
      "source": [
        "# название файла с картой можно заменить на свое. Особенно рекомендуется при повторном использовании кода на другом сервисе\n",
        "m.save('service_1_real_result.html')"
      ],
      "metadata": {
        "id": "5SIFLUzCV_XL"
      },
      "execution_count": null,
      "outputs": []
    },
    {
      "cell_type": "markdown",
      "source": [
        "# Сервисы по вместимости"
      ],
      "metadata": {
        "id": "jAO4HLAygEjV"
      }
    },
    {
      "cell_type": "markdown",
      "source": [
        "**Загрузка данных**"
      ],
      "metadata": {
        "id": "4Uu3nfoT9whH"
      }
    },
    {
      "cell_type": "markdown",
      "source": [
        "Выберите **один** из способов загрузки данных:\n",
        "1. Данные из OpenStreetMap (OSM) - **вставьте название** своей территории в переменную \"area_3\";\n",
        "2. Собственный файл - подгрузите Ваш файл в Jupyter Notebook, проверьте наличие **всех необходимых столбцов** в Вашем файле и обратите внимание на **название файла**, указанного в коде (либо назавите свой файл идентично, либо поменяйте название внутри кода)\n",
        "\n",
        "При **повторном использовании** на другом сервисе:\n",
        "Данные раздел подходит для расчёта таких сервисов как бизнес-центры и торговые центры.\n",
        "\n",
        "При последовательном использовании данных сервисов рекомендуется использовать различные **наименования для переменных разных сервисов** (например, service1 заменить на service2)\n",
        "\n",
        "Переменная **tags для школ** (в случае использования данных из OSM) = {'building': 'school'} - стоит по умолчанию, также укажите свою территорию;\n",
        "\n",
        "Переменная **tags для медицинских учреждений (поликлиник)** (в случае использования данных из OSM) = {'amenity': 'clinic'}, также укажите совю территорию\n",
        "\n",
        "Переменная **tags для культурно-досуговых центров** (в случае использования данных из OSM) = {'amenity': 'community_centre'}, также укажите совю территорию"
      ],
      "metadata": {
        "id": "vr2TrThp9CCH"
      }
    },
    {
      "cell_type": "code",
      "source": [
        "  # укажите свою территорию в переменной area_3\n",
        "area_3 = \"Московский район, Санкт-Петербург, Россия\"\n",
        "\n",
        "# загружаем выбранный сервис (см. текст выше)\n",
        "# для разных сервисов поставьте наименование своей переменной\n",
        "tags = {'building': 'school'}\n",
        "service1 = ox.geometries_from_place(area_3, tags)"
      ],
      "metadata": {
        "id": "PujuLMAxKwvs"
      },
      "execution_count": null,
      "outputs": []
    },
    {
      "cell_type": "code",
      "source": [
        "  # подгрузить файл с подготовленный сервисами с полями \"парковочные_места_СИМ\", \"зарядные_места_СИМ\", \"Вместимость\", \"addr:housenumber\", \"addr:street\", \"name\"\n",
        "  # название Вашего файла и название файла в коде должны совпадать\n",
        "  # для разных сервисов поставьте наименование своей переменной\n",
        "service1 = gpd.read_file('/content/service1_real.geojson')"
      ],
      "metadata": {
        "id": "uvez8S2MK6KQ"
      },
      "execution_count": null,
      "outputs": []
    },
    {
      "cell_type": "code",
      "source": [
        "service1 # проверка данных"
      ],
      "metadata": {
        "id": "zeD8ScFXLBCo"
      },
      "execution_count": null,
      "outputs": []
    },
    {
      "cell_type": "code",
      "source": [
        " # картографическое представление данных\n",
        " # для разных сервисов поставьте наименование своей переменной\n",
        "service1.explore()"
      ],
      "metadata": {
        "id": "ORRJvrWnuJ9S"
      },
      "execution_count": null,
      "outputs": []
    },
    {
      "cell_type": "markdown",
      "source": [
        "**Метод**"
      ],
      "metadata": {
        "id": "bHzu6eGnuMtZ"
      }
    },
    {
      "cell_type": "markdown",
      "source": [
        "Запустите последовательно все части кода внутри подраздела \"Метод\". Убедитесь, что таблица атрибутов измениилась (или появилась информация о достаточности инфраструктуры для СИМ).\n",
        "\n",
        "Текущая функция в коде подходит для школ.\n",
        "\n",
        "Обратите внимание на **изменения в коде** (в доп. подписях внутри функции ниже) коэффициентов расчёта парковочных мест для СИМ для поликлиник и культурно-досуговых центров:\n",
        "- коэффициент для школ: 0.02;\n",
        "- коэффициент для поликлиник: 0.01;\n",
        "- коэффициент для культурно-досуговых центров: 0.1."
      ],
      "metadata": {
        "id": "t13vym7eAWjE"
      }
    },
    {
      "cell_type": "code",
      "source": [
        "def calculate_lots_service1(geos_layer, result, count, price):\n",
        "    # проверяем наличие необходимых атрибутов\n",
        "    if all(attr in geos_layer.columns for attr in ['парковочные_места_СИМ', 'зарядные_места_СИМ', 'Вместимость']):\n",
        "\n",
        "        # проверяем минимальное необходимое количество мест\n",
        "        required_parking = round(geos_layer['Вместимость'] * 0.02)  # для поликлиник: 0.01; для культ-досуг центров: 0.1\n",
        "        required_charging = round(required_parking * 0.1)\n",
        "        # выводим сумму примерной стоимости мест\n",
        "        filtered_geos_layer = geos_layer[geos_layer['парковочные_места_СИМ'] < required_parking]\n",
        "        filtered_geos_layer['стоимость_мест'] = (required_parking - filtered_geos_layer['парковочные_места_СИМ']) * 55000\n",
        "        total_cost_of_places = filtered_geos_layer['стоимость_мест'].sum()\n",
        "        if total_cost_of_places != 0:\n",
        "          geos_layer['стоимость_мест'] = filtered_geos_layer['стоимость_мест']\n",
        "        if total_cost_of_places == 0:\n",
        "          filtered_geos_layer_2 = geos_layer[geos_layer['зарядные_места_СИМ'] < required_charging]\n",
        "          filtered_geos_layer_2['стоимость_мест'] = (required_charging - filtered_geos_layer_2['зарядные_места_СИМ']) * 55000\n",
        "          total_cost_of_places = filtered_geos_layer_2['стоимость_мест'].sum()\n",
        "          geos_layer['стоимость_мест'] = filtered_geos_layer_2['стоимость_мест']\n",
        "        print(f\"Расчётная стоимость парковочных лотов для жилых зданий на территории: {total_cost_of_places} рублей\")\n",
        "        # проверяем, более 50% объектов удовлетворяют условиям оценки\n",
        "        satisfied_count_parking = (geos_layer['парковочные_места_СИМ'] >= required_parking).sum()\n",
        "        satisfied_count_charging = (geos_layer['зарядные_места_СИМ'] >= required_charging).sum()\n",
        "        total_count = len(geos_layer)\n",
        "\n",
        "        parking_ratio = satisfied_count_parking / total_count\n",
        "        charging_ratio = satisfied_count_charging / total_count\n",
        "\n",
        "        if parking_ratio >= 0.5 and charging_ratio >= 0.5:\n",
        "          result += 1\n",
        "          count += 1\n",
        "        elif parking_ratio <= 0.5 and charging_ratio >= 0.5:\n",
        "            result += 0.5\n",
        "            count += 1\n",
        "        elif parking_ratio >= 0.5 and charging_ratio <= 0.5:\n",
        "            result += 0.5\n",
        "            count += 1\n",
        "        else:\n",
        "           count += 1\n",
        "\n",
        "        print(f\"Результат сервиса: {result}\")\n",
        "        print(f\"Количество пройденных сервисов на территории: {count}\")\n",
        "\n",
        "        # боновляем парковочные места только если текущее значение меньше требуемого\n",
        "        if (geos_layer['парковочные_места_СИМ'] < required_parking).any():\n",
        "            geos_layer.loc[geos_layer['парковочные_места_СИМ'] < required_parking, 'парковочные_места_СИМ'] = required_parking\n",
        "        else:\n",
        "            print(\"Достаточное количество парковочных мест\")\n",
        "\n",
        "        # добавляем новое условие для проверки избыточности парковочных мест\n",
        "        if ((geos_layer['парковочные_места_СИМ']) > required_parking + 20).any():\n",
        "            print(\"Предупреждение: возможно избыточное количество парковочных мест\")\n",
        "\n",
        "        # обновляем зарядные места только если текущее значение меньше требуемого\n",
        "        if (geos_layer['зарядные_места_СИМ'] < required_charging).any():\n",
        "            geos_layer.loc[geos_layer['зарядные_места_СИМ'] < required_charging, 'зарядные_места_СИМ'] = required_charging\n",
        "        else:\n",
        "            print(\"Достаточное количество зарядных мест\")\n",
        "\n",
        "        # добавляем новое условие для проверки избыточности зарядных мест\n",
        "        if ((geos_layer['зарядные_места_СИМ']) > required_parking + 15).any():\n",
        "            print(\"Предупреждение: возможно избыточное количество зарядных мест\")\n",
        "\n",
        "    else:\n",
        "    # обработка геослоя\n",
        "       geos_layer = geos_layer[geos_layer.geometry.type.isin(['Polygon'])]\n",
        "       geos_layer = geos_layer.reset_index(drop=True)\n",
        "       original_crs = geos_layer.crs\n",
        "       local_crs = geos_layer.estimate_utm_crs()\n",
        "       geos_layer = geos_layer.to_crs(local_crs) # переводим школы в локальную систему координат\n",
        "       geos_layer.crs  # переводим здания в локальную систему координат\n",
        "\n",
        "       # преобразуем столбец 'building:levels' в числовой тип, ошибки будут заменены на NaN\n",
        "       geos_layer['building:levels'] = pd.to_numeric(geos_layer['building:levels'], errors='coerce')\n",
        "\n",
        "       # заполним пропущенные значения (NaN) нулями\n",
        "       geos_layer = geos_layer.fillna(0)\n",
        "\n",
        "       # добавляем или преобразуем необходимые атрибуты\n",
        "       # 1. количество этажей (number_of_floors)\n",
        "       geos_layer['number_of_floors'] = geos_layer.apply(\n",
        "             lambda x: x['building:levels'] if x['building:levels'] > 1 else 1,\n",
        "             axis=1\n",
        "       )\n",
        "\n",
        "       # 2. площадь застройки (footprint_area) - как площадь геометрии (основание здания)\n",
        "       geos_layer['footprint_area'] = geos_layer.geometry.area\n",
        "\n",
        "       # 3. общая площадь всех этажей (build_floor_area) - footprint_area * number_of_floors\n",
        "       geos_layer['Площадь'] = geos_layer['footprint_area'] * geos_layer['number_of_floors']\n",
        "       geos_layer['Расчетная_площадь'] = geos_layer['Площадь'] - (geos_layer['Площадь'] * 0.6) # для поликлинник: 0.5, для культ-досуг центров: 0.5\n",
        "\n",
        "       geos_layer['Вместимость'] = geos_layer['Расчетная_площадь'] / 2.5   # для поликлинник: 4, для культ-досуг центров: 5\n",
        "\n",
        "        # теперь удалим все остальные столбцы, кроме 'geometry', 'build_floor_area', 'living_area', 'footprint_area', 'number_of_floors', 'population'\n",
        "       geos_layer = geos_layer[['geometry', 'name', 'Площадь', 'footprint_area', 'number_of_floors', 'addr:housenumber', 'addr:street', 'Расчетная_площадь', 'Вместимость']]\n",
        "\n",
        "       # расчёт парковочных и зарядных мест\n",
        "       geos_layer['парковочные_места_СИМ'] = round(geos_layer['Вместимость'] * 0.02) # для поликлиник: 0.01; для культ-досуг центров: 0.1\n",
        "       geos_layer['зарядные_места_СИМ'] = round(geos_layer['парковочные_места_СИМ'] * 0.1)\n",
        "       geos_layer = geos_layer.to_crs(original_crs)\n",
        "       # выводим сумму примерной стоимости мест\n",
        "       geos_layer['стоимость_мест'] = geos_layer['парковочные_места_СИМ']*55000\n",
        "       total_cost_of_places = geos_layer['стоимость_мест'].sum()\n",
        "       print(f\"Расчётная стоимость парковочных лотов для сервиса на территории: {total_cost_of_places} рублей\")\n",
        "\n",
        "    price += total_cost_of_places\n",
        "    print(f\"Суммарная расчётная стоимость парковочных лотов для рассмотренных сервисов на территории: {price} рублей\")\n",
        "    return geos_layer, result, count, price"
      ],
      "metadata": {
        "id": "flAAwoy1LEHg"
      },
      "execution_count": null,
      "outputs": []
    },
    {
      "cell_type": "code",
      "source": [
        " # для разных сервисов поставьте наименование своей переменной\n",
        " # для поликлиник название функции: calculate_lots_service2\n",
        " # для культурно-досуговых центров название функции: calculate_lots_service3\n",
        "service1, result_service, count_service, price_service = calculate_lots_service1(service1, result_service, count_service, price_service)\n",
        "service1"
      ],
      "metadata": {
        "id": "VifOOn9RLMYk"
      },
      "execution_count": null,
      "outputs": []
    },
    {
      "cell_type": "markdown",
      "source": [
        "**Сохранение файла**"
      ],
      "metadata": {
        "id": "nW0pa8lAqmYe"
      }
    },
    {
      "cell_type": "code",
      "source": [
        "# для разных сервисов поставьте наименование своей переменной\n",
        "service1.to_file('service1_real_result.geojson')"
      ],
      "metadata": {
        "id": "NiteMG-LqRte"
      },
      "execution_count": null,
      "outputs": []
    },
    {
      "cell_type": "code",
      "source": [
        "service1.to_excel('service1_real_result.xlsx', index=False)"
      ],
      "metadata": {
        "id": "REpsK-P2UrI1"
      },
      "execution_count": null,
      "outputs": []
    },
    {
      "cell_type": "markdown",
      "source": [
        "**Визуализация**"
      ],
      "metadata": {
        "id": "ZLzqAI0YqkCV"
      }
    },
    {
      "cell_type": "markdown",
      "source": [
        "Запустите последовательно код в подразделе \"Визуализация\".\n",
        "\n",
        "Дизайн карты (подложка, размер круговых маркеров, цвета объектов и т.д.) можно изменить по желанию."
      ],
      "metadata": {
        "id": "6JORoyCFBwo2"
      }
    },
    {
      "cell_type": "code",
      "source": [
        "# для разных сервисов поставьте наименование своей переменной (замените все service1)\n",
        "service1['centroid'] = service1.geometry.centroid\n",
        "\n",
        "# добавление столбцов для широты и долготы центроидов\n",
        "service1['latitude'] = service1['centroid'].y\n",
        "service1['longitude'] = service1['centroid'].x\n",
        "\n",
        "# удаление временного столбца 'centroid', если он не нужен\n",
        "service1 = service1.drop(columns='centroid')"
      ],
      "metadata": {
        "id": "m1sfamqIqbNO"
      },
      "execution_count": null,
      "outputs": []
    },
    {
      "cell_type": "code",
      "source": [
        "# создание DataFrame\n",
        "df = pd.DataFrame(service1)\n",
        "\n",
        "# используем средние значения для центра карты\n",
        "m = folium.Map(location=[df['latitude'].mean(), df['longitude'].mean()], zoom_start=12)\n",
        "\n",
        "# создаем группы для парковочных и зарядных мест\n",
        "parking_group = folium.FeatureGroup(name='Парковочные места')\n",
        "charging_group = folium.FeatureGroup(name='Зарядные места')\n",
        "buildings_group = folium.FeatureGroup(name='Сервис1')\n",
        "\n",
        "folium.TileLayer('CartoDB positron').add_to(m)\n",
        "\n",
        "# итерация по строкам DataFrame\n",
        "for idx, row in df.iterrows():\n",
        "    # проверяем наличие необходимых колонок\n",
        "    if 'парковочные_места_СИМ' in row and 'зарядные_места_СИМ' in row:\n",
        "        # размер точки на основе количества парковочных мест\n",
        "        parking_size = row['парковочные_места_СИМ'] / 5  # измените делитель по необходимости\n",
        "        charging_places = row['зарядные_места_СИМ'] if row['зарядные_места_СИМ'] > 0 else 1\n",
        "\n",
        "        # проверяем количество зарядных мест\n",
        "        if charging_places >= 1:  # условие для зарядных мест\n",
        "            charging_size = charging_places / 5  # измените делитель по необходимости\n",
        "\n",
        "        # добавляем круговые маркеры для парковочных мест\n",
        "        parking_group.add_child(\n",
        "            folium.CircleMarker(\n",
        "                location=(row['latitude'], row['longitude']),  # используем координаты текущей строки\n",
        "                radius=parking_size,\n",
        "                color=None,\n",
        "                fill=True,  # можно изменить дизайн\n",
        "                fill_color='#BFA181',  # можно изменить дизайн\n",
        "                fill_opacity=0.6,  # можно изменить дизайн\n",
        "                tooltip=f\"Парковочные места: {row['парковочные_места_СИМ'], row['стоимость_мест']}\"\n",
        "            )\n",
        "        )\n",
        "\n",
        "        # добавляем круговые маркеры для зарядных мест\n",
        "        charging_group.add_child(\n",
        "            folium.CircleMarker(\n",
        "                location=(row['latitude'], row['longitude']),  # используем координаты текущей строки\n",
        "                radius=charging_size,\n",
        "                color=None,\n",
        "                fill=True,  # можно изменить дизайн\n",
        "                fill_color='#0A1828',  # можно изменить дизайн\n",
        "                fill_opacity=0.9,  # можно изменить дизайн\n",
        "                tooltip=f\"Зарядные места: {row['зарядные_места_СИМ']}\"  # исправлено на нужное поле\n",
        "            )\n",
        "        )\n",
        "\n",
        "# итерация для добавления зданий на карту\n",
        "for index, row in df.iterrows():\n",
        "    # проверяем наличие геометрии\n",
        "    if 'geometry' in row and row['geometry'] is not None:\n",
        "        geometry = row['geometry']\n",
        "\n",
        "        # добавляем полигональный слой зданий на карту\n",
        "        buildings_group.add_child(\n",
        "            folium.GeoJson(\n",
        "                geometry,  # используем всю геометрию\n",
        "                color=None,\n",
        "                fill=True,  # можно изменить дизайн\n",
        "                fill_color='#96C2DB',  # можно изменить дизайн\n",
        "                fill_opacity=0.5,  # можно изменить дизайн\n",
        "                tooltip=f\"Сервис1:{row['name']}\"\n",
        "            )\n",
        "        )\n",
        "\n",
        "# добавляем группы на карту\n",
        "m.add_child(parking_group)\n",
        "m.add_child(charging_group)\n",
        "m.add_child(buildings_group)\n",
        "\n",
        "# добавляем контрольный слой для переключения между слоями\n",
        "folium.LayerControl().add_to(m)\n",
        "\n",
        "# отображаем карту\n",
        "m"
      ],
      "metadata": {
        "id": "-Cxmv0muqpJd"
      },
      "execution_count": null,
      "outputs": []
    },
    {
      "cell_type": "markdown",
      "source": [
        "**Сохранение карты**"
      ],
      "metadata": {
        "id": "aD86MNjV9m_D"
      }
    },
    {
      "cell_type": "code",
      "source": [
        " # название файла с картой можно заменить на свое. Особенно рекомендуется при повторном использовании кода на другом сервисе\n",
        "m.save('service1_real_result.html')"
      ],
      "metadata": {
        "id": "byDQ3q4OP2iR"
      },
      "execution_count": null,
      "outputs": []
    },
    {
      "cell_type": "markdown",
      "source": [
        "# Остановки наземного танспорта"
      ],
      "metadata": {
        "id": "_6l7_aDRgLdg"
      }
    },
    {
      "cell_type": "markdown",
      "source": [
        "**Загрузка данных**"
      ],
      "metadata": {
        "id": "wn2kIXOjEi6W"
      }
    },
    {
      "cell_type": "markdown",
      "source": [
        "Выберите **один** из способов загрузки данных:\n",
        "1. Данные из OpenStreetMap (OSM) - **вставьте название** своей территории в переменную \"area_4\";\n",
        "2. Собственный файл - подгрузите Ваш файл в Jupyter Notebook, проверьте наличие **всех необходимых столбцов** в Вашем файле и обратите внимание на **название файла**, указанного в коде (либо назавите свой файл идентично, либо поменяйте название внутри кода)"
      ],
      "metadata": {
        "id": "TqOJXgxyEnvO"
      }
    },
    {
      "cell_type": "code",
      "source": [
        " # укажите свою территорию в переменной area_4\n",
        "area_4 = \"Московский район, Санкт-Петербург, Россия\"\n",
        "\n",
        "# загружаем остановки\n",
        "tags = {'highway': 'bus_stop'}\n",
        "stops = ox.geometries_from_place(area_4, tags)\n"
      ],
      "metadata": {
        "id": "3TMy2MqRwK-9"
      },
      "execution_count": null,
      "outputs": []
    },
    {
      "cell_type": "code",
      "source": [
        "   # подгрузить файл с подготовленный точечными объектами с полями \"парковочные_места_СИМ\", \"зарядные_места_СИМ\"\n",
        "   # название Вашего файла и название файла в коде должны совпадать\n",
        "stops = gpd.read_file('/content/stops_real.geojson')"
      ],
      "metadata": {
        "id": "15KzBAU3w9FB"
      },
      "execution_count": null,
      "outputs": []
    },
    {
      "cell_type": "code",
      "source": [
        "stops # проверяем данные"
      ],
      "metadata": {
        "id": "djxRrP-sxBR7"
      },
      "execution_count": null,
      "outputs": []
    },
    {
      "cell_type": "code",
      "source": [
        " # картографическое представление данных\n",
        "stops.explore()"
      ],
      "metadata": {
        "id": "_23TvTl1xHOc"
      },
      "execution_count": null,
      "outputs": []
    },
    {
      "cell_type": "markdown",
      "source": [
        "**Метод**"
      ],
      "metadata": {
        "id": "qjAxCJFgIKF1"
      }
    },
    {
      "cell_type": "markdown",
      "source": [
        "Запустите последовательно все части кода внутри подраздела \"Метод\". Убедитесь, что таблица атрибутов измениилась (или появилась информация о достаточности инфраструктуры для СИМ)"
      ],
      "metadata": {
        "id": "XIKpQkBwG7HQ"
      }
    },
    {
      "cell_type": "code",
      "source": [
        "def calculate_stops(geos_layer, result, count, price):\n",
        "    # проверяем наличие необходимых атрибутов\n",
        "    if all(attr in geos_layer.columns for attr in ['парковочные_места_СИМ', 'зарядные_места_СИМ']):\n",
        "\n",
        "        # заполняем NaN значения нулями, чтобы избежать ошибок\n",
        "        geos_layer['парковочные_места_СИМ'] = geos_layer['парковочные_места_СИМ'].fillna(0)\n",
        "        geos_layer['зарядные_места_СИМ'] = geos_layer['зарядные_места_СИМ'].fillna(0)\n",
        "        # выводим сумму примерной стоимости мест\n",
        "        required_parking=5\n",
        "        required_charging=1\n",
        "        filtered_geos_layer = geos_layer[geos_layer['парковочные_места_СИМ'] < required_parking]\n",
        "        filtered_geos_layer['стоимость_мест'] = (required_parking - filtered_geos_layer['парковочные_места_СИМ']) * 55000\n",
        "        total_cost_of_places = filtered_geos_layer['стоимость_мест'].sum()\n",
        "        if total_cost_of_places != 0:\n",
        "          geos_layer['стоимость_мест'] = filtered_geos_layer['стоимость_мест']\n",
        "        if total_cost_of_places == 0:\n",
        "          filtered_geos_layer_2 = geos_layer[geos_layer['зарядные_места_СИМ'] < required_charging]\n",
        "          filtered_geos_layer_2['стоимость_мест'] = (required_charging - filtered_geos_layer_2['зарядные_места_СИМ']) * 55000\n",
        "          total_cost_of_places = filtered_geos_layer_2['стоимость_мест'].sum()\n",
        "          geos_layer['стоимость_мест'] = filtered_geos_layer_2['стоимость_мест']\n",
        "        print(f\"Расчётная стоимость парковочных лотов для жилых зданий на территории: {total_cost_of_places} рублей\")\n",
        "        # проверяем, более 50% объектов удовлетворяют условиям оценки\n",
        "        satisfied_count_parking = (geos_layer['парковочные_места_СИМ'] >= 5).sum()\n",
        "        satisfied_count_charging = (geos_layer['зарядные_места_СИМ'] >= 1).sum()\n",
        "        total_count = len(geos_layer)\n",
        "\n",
        "        parking_ratio = satisfied_count_parking / total_count\n",
        "        charging_ratio = satisfied_count_charging / total_count\n",
        "\n",
        "        if parking_ratio >= 0.5 and charging_ratio >= 0.5:\n",
        "          result += 1\n",
        "          count += 1\n",
        "        elif parking_ratio <= 0.5 and charging_ratio >= 0.5:\n",
        "            result += 0.5\n",
        "            count += 1\n",
        "        elif parking_ratio >= 0.5 and charging_ratio <= 0.5:\n",
        "            result += 0.5\n",
        "            count += 1\n",
        "        else:\n",
        "           count += 1\n",
        "\n",
        "        print(f\"Результат сервиса: {result}\")\n",
        "        print(f\"Количество пройденных сервисов на территории: {count}\")\n",
        "\n",
        "        # проверяем минимальное необходимое количество парковочных мест\n",
        "        if (geos_layer['парковочные_места_СИМ'] >= 5).all():\n",
        "            # если количество парковочных мест достаточно, ничего не делаем\n",
        "            print(\"Достаточное количество парковочных мест для СИМ\")\n",
        "        # добавляем новое условие для проверки избыточности парковочных мест\n",
        "        elif (geos_layer['парковочные_места_СИМ'] > 20).any():\n",
        "            print(\"Предупреждение: возможно избыточное количество парковочных мест\")\n",
        "        else:\n",
        "            geos_layer['парковочные_места_СИМ'] = 5\n",
        "\n",
        "        if (geos_layer['зарядные_места_СИМ'] >= 1).all():\n",
        "            # если количество зарядных мест достаточно, ничего не делаем\n",
        "            print(\"Достаточное количество зарядных мест для СИМ\")\n",
        "         # добавляем новое условие для проверки избыточности зарядных мест\n",
        "        elif (geos_layer['зарядные_места_СИМ'] > 7).any():\n",
        "            print(\"Предупреждение: возможно избыточное количество зарядных мест\")\n",
        "        else:\n",
        "            geos_layer['зарядные_места_СИМ'] = 1\n",
        "\n",
        "    else:\n",
        "        # обработка геослоя\n",
        "        geos_layer = geos_layer.reset_index(drop=True)\n",
        "        original_crs = geos_layer.crs\n",
        "        local_crs = geos_layer.estimate_utm_crs()\n",
        "        geos_layer = geos_layer.to_crs(local_crs)  # переводим в локальную систему координат\n",
        "\n",
        "        # заполняем NaN значения нулями\n",
        "        geos_layer = geos_layer.fillna(0)\n",
        "\n",
        "        # расчёт парковочных и зарядных мест\n",
        "        geos_layer['парковочные_места_СИМ'] = 5\n",
        "        geos_layer['зарядные_места_СИМ'] = 1\n",
        "                # выводим сумму примерной стоимости мест\n",
        "        geos_layer['стоимость_мест'] = geos_layer['парковочные_места_СИМ']*55000\n",
        "        total_cost_of_places = geos_layer['стоимость_мест'].sum()\n",
        "        print(f\"Расчётная стоимость парковочных лотов для остановок на территории: {total_cost_of_places} рублей\")\n",
        "        # теперь удалим все остальные столбцы, кроме 'geometry', 'name', 'парковочные_места_СИМ', 'зарядные_места_СИМ', 'стоимость_мест'\n",
        "        geos_layer = geos_layer[['geometry', 'name', 'парковочные_места_СИМ', 'зарядные_места_СИМ', 'стоимость_мест']]\n",
        "        geos_layer = geos_layer.to_crs(original_crs)\n",
        "\n",
        "    price += total_cost_of_places\n",
        "    print(f\"Суммарная расчётная стоимость парковочных лотов для рассмотренных сервисов на территории: {price} рублей\")\n",
        "    return geos_layer, result, count, price"
      ],
      "metadata": {
        "id": "6TGSzmMGER9N"
      },
      "execution_count": null,
      "outputs": []
    },
    {
      "cell_type": "code",
      "source": [
        "stops, result_service, count_service, price_service = calculate_stops(stops, result_service, count_service, price_service)\n",
        "stops"
      ],
      "metadata": {
        "id": "J2V66EBRyyUH"
      },
      "execution_count": null,
      "outputs": []
    },
    {
      "cell_type": "markdown",
      "source": [
        "**Сохранение файла**\n",
        "\n"
      ],
      "metadata": {
        "id": "VOqZLWIKzKJw"
      }
    },
    {
      "cell_type": "code",
      "source": [
        "stops.to_file('stops_real_result.geojson')"
      ],
      "metadata": {
        "id": "_LMGAUIFzFOl"
      },
      "execution_count": null,
      "outputs": []
    },
    {
      "cell_type": "code",
      "source": [
        "stops.to_excel('stops_real_result.xlsx', index=False)"
      ],
      "metadata": {
        "id": "0M_15CcWXlXM"
      },
      "execution_count": null,
      "outputs": []
    },
    {
      "cell_type": "markdown",
      "source": [
        "**Визуализация**"
      ],
      "metadata": {
        "id": "DnGZm04TzeVI"
      }
    },
    {
      "cell_type": "markdown",
      "source": [
        "Запустите последовательно код в подразделе \"Визуализация\".\n",
        "\n",
        "Дизайн карты (подложка, размер круговых маркеров, цвета объектов и т.д.) можно изменить по желанию."
      ],
      "metadata": {
        "id": "KkF6srMFGkyq"
      }
    },
    {
      "cell_type": "code",
      "source": [
        "stops['centroid'] = stops.geometry.centroid\n",
        "\n",
        "# добавление столбцов для широты и долготы центроидов\n",
        "stops['latitude'] = stops['centroid'].y\n",
        "stops['longitude'] = stops['centroid'].x\n",
        "\n",
        "# удаление временного столбца 'centroid', если он не нужен\n",
        "stops = stops.drop(columns='centroid')"
      ],
      "metadata": {
        "id": "-KetJTXX0oDe"
      },
      "execution_count": null,
      "outputs": []
    },
    {
      "cell_type": "code",
      "source": [
        "# создание DataFrame\n",
        "df = pd.DataFrame(stops)\n",
        "\n",
        "# используем средние значения для центра карты\n",
        "m = folium.Map(location=[df['latitude'].mean(), df['longitude'].mean()], zoom_start=12)\n",
        "\n",
        "# создаем группы для парковочных и зарядных мест\n",
        "parking_group = folium.FeatureGroup(name='Парковочные места')\n",
        "charging_group = folium.FeatureGroup(name='Зарядные места')\n",
        "\n",
        "folium.TileLayer('CartoDB positron').add_to(m)\n",
        "\n",
        "# итерация по строкам DataFrame\n",
        "for idx, row in df.iterrows():\n",
        "    # проверяем наличие необходимых колонок и заполняем NaN значения нулями\n",
        "    parking_spots = row.get('парковочные_места_СИМ', 0)  # если нет, то 0\n",
        "    charging_spots = row.get('зарядные_места_СИМ', 0)  # если нет, то 0\n",
        "\n",
        "    # размер точки на основе количества парковочных мест\n",
        "    parking_size = max(parking_spots / 1, 1)  # минимальный размер точки 1\n",
        "    charging_size = max(charging_spots / 1, 1) if charging_spots > 0 else 1  # минимальный размер точки 1\n",
        "\n",
        "    # добавляем круговые маркеры для парковочных мест\n",
        "    parking_group.add_child(\n",
        "        folium.CircleMarker(\n",
        "            location=(row['latitude'], row['longitude']),\n",
        "            radius=parking_size,\n",
        "            color=None,\n",
        "            fill=True,  # можно изменить дизайн\n",
        "            fill_color='#BFA181', # можно изменить дизайн\n",
        "            fill_opacity=0.6,  # можно изменить дизайн\n",
        "            tooltip=f\"Парковочные места: {parking_spots, row['стоимость_мест']}\"\n",
        "        )\n",
        "    )\n",
        "\n",
        "    # добавляем круговые маркеры для зарядных мест\n",
        "    charging_group.add_child(\n",
        "        folium.CircleMarker(\n",
        "            location=(row['latitude'], row['longitude']),\n",
        "            radius=charging_size,\n",
        "            color=None,\n",
        "            fill=True,  # можно изменить дизайн\n",
        "            fill_color='#0A1828',  # можно изменить дизайн\n",
        "            fill_opacity=0.9, # можно изменить дизайн\n",
        "            tooltip=f\"Зарядные места: {charging_spots}\"\n",
        "        )\n",
        "    )\n",
        "\n",
        "# добавляем группы на карту\n",
        "m.add_child(parking_group)\n",
        "m.add_child(charging_group)\n",
        "\n",
        "# добавляем контрольный слой для переключения между слоями\n",
        "folium.LayerControl().add_to(m)\n",
        "\n",
        "# отображаем карту\n",
        "m"
      ],
      "metadata": {
        "id": "Bgw4cilHzd2d"
      },
      "execution_count": null,
      "outputs": []
    },
    {
      "cell_type": "markdown",
      "source": [
        "**Сохранение карты**"
      ],
      "metadata": {
        "id": "Gu5ynroQPqcW"
      }
    },
    {
      "cell_type": "code",
      "source": [
        "m.save('stops_real_result.html')"
      ],
      "metadata": {
        "id": "yQ8uCvLTPDEx"
      },
      "execution_count": null,
      "outputs": []
    },
    {
      "cell_type": "markdown",
      "source": [
        "# Станции метро"
      ],
      "metadata": {
        "id": "lpeHbh3yaQj9"
      }
    },
    {
      "cell_type": "markdown",
      "source": [
        "**Загрузка данных**"
      ],
      "metadata": {
        "id": "nFp-akQHHvqx"
      }
    },
    {
      "cell_type": "markdown",
      "source": [
        "Выберите **один** из способов загрузки данных:\n",
        "1. Данные из OpenStreetMap (OSM) - **вставьте название** своей территории в переменную \"area_5\" - первый код;\n",
        "2. Собственный файл - подгрузите Ваш файл в Jupyter Notebook, проверьте наличие **всех необходимых столбцов** в Вашем файле и обратите внимание на **название файла**, указанного в коде (либо назавите свой файл идентично, либо поменяйте название внутри кода) - второй код"
      ],
      "metadata": {
        "id": "24wOxdNsHuuZ"
      }
    },
    {
      "cell_type": "code",
      "source": [
        " # укажите свою территорию в переменной area_5\n",
        "area_5 = \"Московский район, Санкт-Петербург, Россия\"\n",
        "\n",
        "# загружаем станции метро\n",
        "tags = {'railway': 'station'}\n",
        "metro = ox.geometries_from_place(area_5, tags)\n",
        "gdf = gpd.GeoDataFrame(metro)\n",
        "\n",
        "# удаление объектов, не равных \"ГУП «Петербургский метрополитен»\" в колонке \"operator\"\n",
        "gdf_filtered = gdf[gdf['operator'] == 'ГУП «Петербургский метрополитен»']\n",
        "\n",
        "# вывод отфильтрованного GeoDataFrame\n",
        "metro=gdf_filtered"
      ],
      "metadata": {
        "id": "CZ9JVl_RaUnM"
      },
      "execution_count": null,
      "outputs": []
    },
    {
      "cell_type": "code",
      "source": [
        " # подгрузить файл с подготовленный точечными объектами с полями \"парковочные_места_СИМ\", \"зарядные_места_СИМ\"\n",
        " # название Вашего файла и название файла в коде должны совпадать\n",
        "metro = gpd.read_file('/content/metro_real.geojson')"
      ],
      "metadata": {
        "id": "7aZmgHtZbIvs"
      },
      "execution_count": null,
      "outputs": []
    },
    {
      "cell_type": "code",
      "source": [
        "metro # проверка данных"
      ],
      "metadata": {
        "id": "xUnbuUUm20H_"
      },
      "execution_count": null,
      "outputs": []
    },
    {
      "cell_type": "code",
      "source": [
        " # картографическое представление данных\n",
        "metro.explore()"
      ],
      "metadata": {
        "id": "PnJegFdO4Qqj"
      },
      "execution_count": null,
      "outputs": []
    },
    {
      "cell_type": "markdown",
      "source": [
        "**Метод**"
      ],
      "metadata": {
        "id": "W-frD5764Vnk"
      }
    },
    {
      "cell_type": "markdown",
      "source": [
        "Запустите последовательно все части кода внутри подраздела \"Метод\". Убедитесь, что таблица атрибутов измениилась (или появилась информация о достаточности инфраструктуры для СИМ)"
      ],
      "metadata": {
        "id": "9ICU5QE-I59m"
      }
    },
    {
      "cell_type": "code",
      "source": [
        "def calculate_metro(geos_layer, result, count, price):\n",
        "    # проверяем наличие необходимых атрибутов\n",
        "    if all(attr in geos_layer.columns for attr in ['парковочные_места_СИМ', 'зарядные_места_СИМ']):\n",
        "\n",
        "        # заполняем NaN значения нулями, чтобы избежать ошибок\n",
        "        geos_layer['парковочные_места_СИМ'] = geos_layer['парковочные_места_СИМ'].fillna(0)\n",
        "        geos_layer['зарядные_места_СИМ'] = geos_layer['зарядные_места_СИМ'].fillna(0)\n",
        "        # выводим сумму примерной стоимости мест\n",
        "        required_parking=20\n",
        "        required_charging=2\n",
        "        filtered_geos_layer = geos_layer[geos_layer['парковочные_места_СИМ'] < required_parking]\n",
        "        filtered_geos_layer['стоимость_мест'] = (required_parking - filtered_geos_layer['парковочные_места_СИМ']) * 55000\n",
        "        total_cost_of_places = filtered_geos_layer['стоимость_мест'].sum()\n",
        "        if total_cost_of_places != 0:\n",
        "          geos_layer['стоимость_мест'] = filtered_geos_layer['стоимость_мест']\n",
        "        if total_cost_of_places == 0:\n",
        "          filtered_geos_layer_2 = geos_layer[geos_layer['зарядные_места_СИМ'] < required_charging]\n",
        "          filtered_geos_layer_2['стоимость_мест'] = (required_charging - filtered_geos_layer_2['зарядные_места_СИМ']) * 55000\n",
        "          total_cost_of_places = filtered_geos_layer_2['стоимость_мест'].sum()\n",
        "          geos_layer['стоимость_мест'] = filtered_geos_layer_2['стоимость_мест']\n",
        "        print(f\"Расчётная стоимость парковочных лотов для жилых зданий на территории: {total_cost_of_places} рублей\")\n",
        "        # проверяем, более 50% объектов удовлетворяют условиям оценки\n",
        "        satisfied_count_parking = (geos_layer['парковочные_места_СИМ'] >= 20).sum()\n",
        "        satisfied_count_charging = (geos_layer['парковочные_места_СИМ'] * 0.1).sum()\n",
        "        total_count = len(geos_layer)\n",
        "\n",
        "        parking_ratio = satisfied_count_parking / total_count\n",
        "        charging_ratio = satisfied_count_charging / total_count\n",
        "\n",
        "        if parking_ratio >= 0.5 and charging_ratio >= 0.5:\n",
        "          result += 1\n",
        "          count += 1\n",
        "        elif parking_ratio <= 0.5 and charging_ratio >= 0.5:\n",
        "            result += 0.5\n",
        "            count += 1\n",
        "        elif parking_ratio >= 0.5 and charging_ratio <= 0.5:\n",
        "            result += 0.5\n",
        "            count += 1\n",
        "        else:\n",
        "           count += 1\n",
        "\n",
        "        print(f\"Результат сервиса: {result}\")\n",
        "        print(f\"Количество пройденных сервисов на территории: {count}\")\n",
        "\n",
        "        # проверяем минимальное необходимое количество зарядных мест\n",
        "        if (geos_layer['парковочные_места_СИМ'] >= 20).all():\n",
        "            # если количество парковочных мест достаточно, ничего не делаем\n",
        "            print(\"Достаточное количество парковочных мест для СИМ\")\n",
        "        elif (geos_layer['парковочные_места_СИМ'] > 70).any():\n",
        "            print(\"Предупреждение: возможно избыточное количество парковочных мест\")\n",
        "        else:\n",
        "            geos_layer['парковочные_места_СИМ'] = 20\n",
        "\n",
        "        if (geos_layer['зарядные_места_СИМ'] >= (geos_layer['парковочные_места_СИМ'] * 0.1)).all():\n",
        "            # если количество зарядных мест достаточно, ничего не делаем\n",
        "            print(\"Достаточное количество зарядных мест для СИМ\")\n",
        "        elif (geos_layer['зарядные_места_СИМ'] >= ((geos_layer['парковочные_места_СИМ'] * 0.1)+20)).any():\n",
        "            print(\"Предупреждение: возможно избыточное количество зарядных мест\")\n",
        "        else:\n",
        "            geos_layer['зарядные_места_СИМ'] = round(geos_layer['парковочные_места_СИМ'] * 0.1)\n",
        "\n",
        "    else:\n",
        "        # обработка геослоя\n",
        "        geos_layer = geos_layer.reset_index(drop=True)\n",
        "        original_crs = geos_layer.crs\n",
        "        local_crs = geos_layer.estimate_utm_crs()\n",
        "        geos_layer = geos_layer.to_crs(local_crs)  # переводим в локальную систему координат\n",
        "\n",
        "        # заполняем NaN значения нулями\n",
        "        geos_layer = geos_layer.fillna(0)\n",
        "\n",
        "        # расчёт парковочных и зарядных мест\n",
        "        geos_layer['парковочные_места_СИМ'] = 20\n",
        "        geos_layer['зарядные_места_СИМ'] = round(geos_layer['парковочные_места_СИМ'] * 0.1)\n",
        "        # выводим сумму примерной стоимости мест\n",
        "        geos_layer['стоимость_мест'] = geos_layer['парковочные_места_СИМ']*55000\n",
        "        total_cost_of_places = geos_layer['стоимость_мест'].sum()\n",
        "        print(f\"Расчётная стоимость парковочных лотов для станций метро на территории: {total_cost_of_places} рублей\")\n",
        "        # теперь удалим все остальные столбцы, кроме 'geometry', 'name', 'парковочные_места_СИМ', 'зарядные_места_СИМ', 'стоимость_мест'\n",
        "        geos_layer = geos_layer[['geometry', 'name', 'парковочные_места_СИМ', 'зарядные_места_СИМ', 'стоимость_мест']]\n",
        "        geos_layer = geos_layer.to_crs(original_crs)\n",
        "\n",
        "\n",
        "    price += total_cost_of_places\n",
        "    print(f\"Суммарная расчётная стоимость парковочных лотов для рассмотренных сервисов на территории: {price} рублей\")\n",
        "    return geos_layer, result, count, price"
      ],
      "metadata": {
        "id": "uYj74bkdbOuD"
      },
      "execution_count": null,
      "outputs": []
    },
    {
      "cell_type": "code",
      "source": [
        "metro, result_service, count_service, price_service = calculate_metro(metro, result_service, count_service, price_service)\n",
        "metro"
      ],
      "metadata": {
        "id": "KwpLuesSbimX"
      },
      "execution_count": null,
      "outputs": []
    },
    {
      "cell_type": "markdown",
      "source": [
        "**Сохранение файла**"
      ],
      "metadata": {
        "id": "9n85t0tcb_DR"
      }
    },
    {
      "cell_type": "code",
      "source": [
        "metro.to_file('metro_real_result.geojson')"
      ],
      "metadata": {
        "id": "4e-c30Yrbq6O"
      },
      "execution_count": null,
      "outputs": []
    },
    {
      "cell_type": "code",
      "source": [
        "metro.to_excel('metro_real_result.xlsx', index=False)"
      ],
      "metadata": {
        "id": "WgFHf8XxXqa7"
      },
      "execution_count": null,
      "outputs": []
    },
    {
      "cell_type": "markdown",
      "source": [
        "**Визуализация**"
      ],
      "metadata": {
        "id": "3O4OWAt1cFXV"
      }
    },
    {
      "cell_type": "markdown",
      "source": [
        "Запустите последовательно код в подразделе \"Визуализация\".\n",
        "\n",
        "Дизайн карты (подложка, размер круговых маркеров, цвета объектов и т.д.) можно изменить по желанию."
      ],
      "metadata": {
        "id": "mqh-59W8JDJt"
      }
    },
    {
      "cell_type": "code",
      "source": [
        "metro['centroid'] = metro.geometry.centroid\n",
        "\n",
        "# добавление столбцов для широты и долготы центроидов\n",
        "metro['latitude'] = metro['centroid'].y\n",
        "metro['longitude'] = metro['centroid'].x\n",
        "\n",
        "# удаление временного столбца 'centroid', если он не нужен\n",
        "metro = metro.drop(columns='centroid')"
      ],
      "metadata": {
        "id": "6gUbMpN3zsTL"
      },
      "execution_count": null,
      "outputs": []
    },
    {
      "cell_type": "code",
      "source": [
        "# создание DataFrame\n",
        "df = pd.DataFrame(metro)\n",
        "\n",
        "# используем средние значения для центра карты\n",
        "m = folium.Map(location=[df['latitude'].mean(), df['longitude'].mean()], zoom_start=12)\n",
        "\n",
        "# создаем группы для парковочных и зарядных мест\n",
        "parking_group = folium.FeatureGroup(name='Парковочные места')\n",
        "charging_group = folium.FeatureGroup(name='Зарядные места')\n",
        "\n",
        "folium.TileLayer('CartoDB positron').add_to(m)\n",
        "\n",
        "# итерация по строкам DataFrame\n",
        "for idx, row in df.iterrows():\n",
        "    # проверяем наличие необходимых колонок и заполняем NaN значения нулями\n",
        "    parking_spots = row.get('парковочные_места_СИМ', 0)  # если нет, то 0\n",
        "    charging_spots = row.get('зарядные_места_СИМ', 0)  # если нет, то 0\n",
        "\n",
        "    # размер точки на основе количества парковочных мест\n",
        "    parking_size = max(parking_spots / 1, 1)  # минимальный размер точки 1\n",
        "    charging_size = max(charging_spots / 1, 1) if charging_spots > 0 else 1  # минимальный размер точки 1\n",
        "\n",
        "    # добавляем круговые маркеры для парковочных мест\n",
        "    parking_group.add_child(\n",
        "        folium.CircleMarker(\n",
        "            location=(row['latitude'], row['longitude']),\n",
        "            radius=parking_size,\n",
        "            color=None,\n",
        "            fill=True,  # можно изменить дизайн\n",
        "            fill_color='#BFA181',  # можно изменить дизайн\n",
        "            fill_opacity=0.6, # можно изменить дизайн\n",
        "            tooltip=f\"Парковочные места: {parking_spots, row['стоимость_мест']}\"\n",
        "        )\n",
        "    )\n",
        "\n",
        "    # добавляем круговые маркеры для зарядных мест\n",
        "    charging_group.add_child(\n",
        "        folium.CircleMarker(\n",
        "            location=(row['latitude'], row['longitude']),\n",
        "            radius=charging_size,\n",
        "            color=None,\n",
        "            fill=True,  # можно изменить дизайн\n",
        "            fill_color='#0A1828',  # можно изменить дизайн\n",
        "            fill_opacity=0.9,  # можно изменить дизайн\n",
        "            tooltip=f\"Зарядные места: {charging_spots}\"\n",
        "        )\n",
        "    )\n",
        "\n",
        "# добавляем группы на карту\n",
        "m.add_child(parking_group)\n",
        "m.add_child(charging_group)\n",
        "\n",
        "# добавляем контрольный слой для переключения между слоями\n",
        "folium.LayerControl().add_to(m)\n",
        "\n",
        "# отображаем карту\n",
        "m"
      ],
      "metadata": {
        "id": "OpRgpWqxcQKH"
      },
      "execution_count": null,
      "outputs": []
    },
    {
      "cell_type": "markdown",
      "source": [
        "**Сохранение карты**"
      ],
      "metadata": {
        "id": "uDAtn9mqPPGt"
      }
    },
    {
      "cell_type": "code",
      "source": [
        "m.save('metro_real_result.html')"
      ],
      "metadata": {
        "id": "JtEL13eaPN_J"
      },
      "execution_count": null,
      "outputs": []
    },
    {
      "cell_type": "markdown",
      "source": [
        "# Оценка территории"
      ],
      "metadata": {
        "id": "oX-dpM8JGzWh"
      }
    },
    {
      "cell_type": "markdown",
      "source": [
        "Используйте этот раздел, если Вы работали с собственными файлами (не с данными из OSM)"
      ],
      "metadata": {
        "id": "j__vNLd5KvhE"
      }
    },
    {
      "cell_type": "code",
      "source": [
        " # используйте после проверки всех сервисов на Вашей территории\n",
        "terr_point = result_service/count_service\n",
        "if terr_point < 0.4:\n",
        "  print (f\"Оценка: низкая степень интеграции инфраструктуры для средств микромобильности на Вашей территории:{terr_point:.2f}\")\n",
        "elif 0.4 <= terr_point < 0.7:\n",
        "  print (f\"Оценка: умеренная степень интеграции инфраструктуры для средств микромобильности на Вашей территории: {terr_point:.2f}\")\n",
        "elif terr_point >= 0.7:\n",
        "  print (f\"Оценка: высокая степень интеграции инфраструктуры для средств микромобильности на Вашей территории: {terr_point:.2f}\")\n",
        "terr_point\n",
        "print(f\"Суммарная расчётная стоимость размещения парковочных лотов для рассмотренных сервисов на территории: {price_service} рублей\")"
      ],
      "metadata": {
        "id": "UPgu1xZIG3WD"
      },
      "execution_count": null,
      "outputs": []
    }
  ]
}